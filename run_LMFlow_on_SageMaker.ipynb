{
 "cells": [
  {
   "cell_type": "markdown",
   "id": "e5268c6c-9813-4169-81c2-10622fcbc38e",
   "metadata": {
    "tags": []
   },
   "source": [
    "### SageMaker SDK Environment Prep"
   ]
  },
  {
   "cell_type": "code",
   "execution_count": null,
   "id": "6daaf035-6524-4736-a6b5-97a858ea3a54",
   "metadata": {
    "tags": []
   },
   "outputs": [],
   "source": [
    "import sagemaker\n",
    "from sagemaker import image_uris\n",
    "import boto3\n",
    "import os\n",
    "import time\n",
    "import json\n",
    "from pathlib import Path"
   ]
  },
  {
   "cell_type": "code",
   "execution_count": null,
   "id": "9262abcd-6957-4d1c-9bd7-74df6697ce5c",
   "metadata": {
    "tags": []
   },
   "outputs": [],
   "source": [
    "role = sagemaker.get_execution_role()  # execution role for the endpoint\n",
    "sess = sagemaker.session.Session()  # sagemaker session for interacting with different AWS APIs\n",
    "bucket = sess.default_bucket()  # bucket to house artifacts\n",
    "model_bucket = sess.default_bucket()  # bucket to house artifacts\n",
    "region = sess._region_name\n",
    "account_id = sess.account_id()\n",
    "s3_client = boto3.client(\"s3\")\n",
    "sm_client = boto3.client(\"sagemaker\")\n",
    "smr_client = boto3.client(\"sagemaker-runtime\")"
   ]
  },
  {
   "cell_type": "code",
   "execution_count": null,
   "id": "4f845f72-f9c5-4abe-866b-771fe44a174b",
   "metadata": {
    "tags": []
   },
   "outputs": [],
   "source": [
    "# Pull git project to notebook instance\n",
    "!git clone https://github.com/OptimalScale/LMFlow.git"
   ]
  },
  {
   "cell_type": "markdown",
   "id": "a20eeef2-77e4-465c-bae9-2c0242aa23f3",
   "metadata": {},
   "source": [
    "### Choose one dataset & run download"
   ]
  },
  {
   "cell_type": "code",
   "execution_count": null,
   "id": "62c138fc-0553-4e96-bc40-58b08dc8c9c5",
   "metadata": {
    "scrolled": true,
    "tags": []
   },
   "outputs": [],
   "source": [
    "%%sh\n",
    "cd LMFlow/data/\n",
    "chmod +x download.sh\n",
    "./download.sh MedMCQA"
   ]
  },
  {
   "cell_type": "markdown",
   "id": "d0a03060-47c5-4f82-a3a6-59b70ac3fb9f",
   "metadata": {},
   "source": [
    "### Build original Nvidia based docker"
   ]
  },
  {
   "cell_type": "code",
   "execution_count": null,
   "id": "a4ebcf5e-1c4d-44c7-8b05-3ec294c9fca0",
   "metadata": {
    "tags": []
   },
   "outputs": [],
   "source": [
    "!mkdir LMFlow/docker-sm"
   ]
  },
  {
   "cell_type": "code",
   "execution_count": null,
   "id": "ca333522-fd90-4cbf-b32b-f6bc84534df4",
   "metadata": {
    "tags": []
   },
   "outputs": [],
   "source": [
    "%%writefile LMFlow/docker-sm/Dockerfile\n",
    "FROM nvidia/cuda:11.3.0-cudnn8-devel-ubuntu20.04\n",
    "\n",
    "ENV TZ=Etc/UTC\n",
    "RUN ln -snf /usr/share/zoneinfo/$TZ /etc/localtime && echo $TZ > /etc/timezone\n",
    "\n",
    "RUN apt-get update --fix-missing && apt-get install -y fontconfig --fix-missing\n",
    "RUN apt-get install -y libopenmpi-dev\n",
    "RUN apt-get install -y git python3.9 python3.9-dev python3.9-venv\n",
    "RUN python3.9 -m venv /venv\n",
    "ENV PATH=/venv/bin:$PATH\n",
    "RUN pip3 install mpi4py\n",
    "\n",
    "RUN git clone https://github.com/OptimalScale/LMFlow.git\n",
    "WORKDIR /LMFlow/\n",
    "\n",
    "RUN pip3 install wheel\n",
    "RUN pip3 install sagemaker-training # add sagemaker training toolkits\n",
    "RUN pip3 install -e ."
   ]
  },
  {
   "cell_type": "code",
   "execution_count": null,
   "id": "6067342e-e7d4-46c5-b2bb-35a2a395ea0d",
   "metadata": {
    "tags": []
   },
   "outputs": [],
   "source": [
    "%%writefile build_push.sh\n",
    "#!/bin/bash\n",
    "\n",
    "# The name of our algorithm\n",
    "algorithm_name=sagemaker-demo-lmflow-v0\n",
    "\n",
    "cd LMFlow/docker-sm\n",
    "\n",
    "account=$(aws sts get-caller-identity --query Account --output text)\n",
    "\n",
    "# Get the region defined in the current configuration (default to us-west-2 if none defined)\n",
    "region=$(aws configure get region)\n",
    "region=${region:-us-east-1}\n",
    "\n",
    "fullname=\"${account}.dkr.ecr.${region}.amazonaws.com/${algorithm_name}:latest\"\n",
    "\n",
    "# If the repository doesn't exist in ECR, create it.\n",
    "\n",
    "aws ecr describe-repositories --repository-names \"${algorithm_name}\" > /dev/null 2>&1\n",
    "\n",
    "if [ $? -ne 0 ]\n",
    "then\n",
    "    aws ecr create-repository --repository-name \"${algorithm_name}\" > /dev/null\n",
    "fi\n",
    "\n",
    "# Get the login command from ECR and execute it directly\n",
    "$(aws ecr get-login --region ${region} --no-include-email)\n",
    "\n",
    "# Get the login command from ECR in order to pull down the SageMaker PyTorch image\n",
    "$(aws ecr get-login --registry-ids 763104351884 --region ${region} --no-include-email)\n",
    "\n",
    "# Build the docker image locally with the image name and then push it to ECR\n",
    "# with the full name.\n",
    "\n",
    "docker build  -t ${algorithm_name} . --build-arg REGION=${region}\n",
    "docker tag ${algorithm_name} ${fullname}\n",
    "\n",
    "docker push ${fullname}"
   ]
  },
  {
   "cell_type": "code",
   "execution_count": null,
   "id": "acea0e04-9ca6-4fd3-809b-b7b677e58302",
   "metadata": {
    "scrolled": true,
    "tags": []
   },
   "outputs": [],
   "source": [
    "%%sh\n",
    "chmod +x build_push.sh\n",
    "./build_push.sh"
   ]
  },
  {
   "cell_type": "code",
   "execution_count": null,
   "id": "cd2a38cc-df83-4281-8129-2d51f913328b",
   "metadata": {
    "tags": []
   },
   "outputs": [],
   "source": [
    "# find the docker image uri from above log or ECR\n",
    "docker_image_uri = 'YOUR_ACCOUNT_ID.dkr.ecr.us-east-1.amazonaws.com/sagemaker-demo-lmflow-v0'"
   ]
  },
  {
   "cell_type": "markdown",
   "id": "1eddf7ba-388d-4337-be0d-cfa848e6e07b",
   "metadata": {
    "tags": []
   },
   "source": [
    "### Modify starting shell depending on aws resources required"
   ]
  },
  {
   "cell_type": "code",
   "execution_count": null,
   "id": "5cc4b2ca-f577-4436-8295-9f617936f921",
   "metadata": {
    "tags": []
   },
   "outputs": [],
   "source": [
    "%%writefile LMFlow/scripts/run_sm_train_job.sh\n",
    "#!/bin/bash\n",
    "\n",
    "deepspeed_args=\"--master_port=11000\"      # Default argument\n",
    "\n",
    "wandb disabled # disable wandb if nessary\n",
    "\n",
    "LOCAL_SM_DIR=/tmp/lmflow\n",
    "exp_id=finetune_v0.1\n",
    "MODEL_SAVE_PATH=\"${LOCAL_SM_DIR}/model_output/${exp_id}\"\n",
    "SAVE_PATH=\"${LOCAL_SM_DIR}/${exp_id}\"\n",
    "LOG_FILE=\"${SAVE_PATH}/logs\"\n",
    "\n",
    "BASE_CODE_PATH=/opt/ml/code/LMFlow\n",
    "\n",
    "## If you use S3 as data source\n",
    "# train_dataset_path='/opt/ml/input/data/trains'\n",
    "# test_dataset_path='/opt/ml/input/data/tests'\n",
    "# dataset_path=${train_dataset_path}\n",
    "## else, use sample data in code path\n",
    "dataset_path=${BASE_CODE_PATH}/data/MedMCQA/train\n",
    "\n",
    "output_dir=${MODEL_SAVE_PATH}\n",
    "log_dir=${LOG_FILE}\n",
    "mkdir -p ${output_dir} ${log_dir}\n",
    "\n",
    "\n",
    "chmod +x ./s5cmd\n",
    "./s5cmd sync s3://llm-artifacts-us-east-1/decapoda-research-llama-7b-hf/* ${LOCAL_SM_DIR}/model_artifacts/\n",
    "\n",
    "# --model_name_or_path ${LOCAL_SM_DIR}/model_artifacts/ \\\n",
    "deepspeed ${deepspeed_args} \\\n",
    "  ${BASE_CODE_PATH}/examples/finetune.py \\\n",
    "    --model_name_or_path ${LOCAL_SM_DIR}/model_artifacts/ \\\n",
    "    --dataset_path ${dataset_path} \\\n",
    "    --output_dir ${output_dir} --overwrite_output_dir \\\n",
    "    --num_train_epochs 0.01 \\\n",
    "    --learning_rate 2e-5 \\\n",
    "    --block_size 512 \\\n",
    "    --per_device_train_batch_size 1 \\\n",
    "    --deepspeed ${BASE_CODE_PATH}/configs/ds_config_zero3.json \\\n",
    "    --bf16 \\\n",
    "    --run_name finetune \\\n",
    "    --validation_split_percentage 0 \\\n",
    "    --logging_steps 20 \\\n",
    "    --do_train \\\n",
    "    --ddp_timeout 72000 \\\n",
    "    --save_steps 5000 \\\n",
    "    --dataloader_num_workers 1 \\\n",
    "    | tee ${log_dir}/train.log \\\n",
    "    2> ${log_dir}/train.err\n",
    "\n",
    "\n",
    "./s5cmd sync ${output_dir} s3://llm-artifacts-us-east-1/output-models/lmflow-7b/$(date +%Y-%m-%d-%H-%M-%S)/\n"
   ]
  },
  {
   "cell_type": "code",
   "execution_count": null,
   "id": "0f4f36f7-fc21-46af-a238-f7929a7a0483",
   "metadata": {},
   "outputs": [],
   "source": [
    "# remove dependency installation that already installed in dockerfile\n",
    "! rm -rf LMFlow/requirements.txt\n",
    "! rm -rf LMFlow/setup.py"
   ]
  },
  {
   "cell_type": "markdown",
   "id": "2f8ec42e-8fc3-4b40-908e-ce69ec5e1f74",
   "metadata": {},
   "source": [
    "### SageMaker core API call"
   ]
  },
  {
   "cell_type": "code",
   "execution_count": null,
   "id": "8e5e364f-5a6f-445e-a4e1-41c621887c50",
   "metadata": {
    "tags": []
   },
   "outputs": [],
   "source": [
    "instance_type = 'ml.p4d.24xlarge'\n",
    "\n",
    "md_est = sagemaker.estimator.Estimator(\n",
    "    entry_point=\"LMFlow/scripts/run_sm_train_job.sh\", #'scripts/run_fintune.sh'\n",
    "    role=role,\n",
    "    image_uri=docker_image_uri,\n",
    "    source_dir='./',\n",
    "    instance_count=1,\n",
    "    instance_type=instance_type,\n",
    "    sagemaker_session=sess,\n",
    "    # volume_size=500, # not necessary for Nvme resource\n",
    "    keep_alive_period_in_seconds=1800, # hold temperarily the training resource\n",
    "    max_run=24*3600, # to be increased for large number of steps\n",
    ")"
   ]
  },
  {
   "cell_type": "code",
   "execution_count": null,
   "id": "5067d432-7c07-45a8-8a09-7d31f324e7bf",
   "metadata": {
    "scrolled": true,
    "tags": []
   },
   "outputs": [],
   "source": [
    "data_chnl = {'trains': 's3://YOUR_BUCKET_NAME/lmflow-data/MedMCQA/train',\n",
    "           'tests': 's3://YOUR_BUCKET_NAME/lmflow-data/MedMCQA/validation'}\n",
    "md_est.fit()\n",
    "# md_est.fit(data_chnl)"
   ]
  },
  {
   "cell_type": "code",
   "execution_count": null,
   "id": "c5ebe6f3-7a07-44eb-9d98-fd3d819dac2d",
   "metadata": {},
   "outputs": [],
   "source": []
  },
  {
   "cell_type": "code",
   "execution_count": null,
   "id": "f8f6cde5-d5ad-4738-ad89-70bf20779e43",
   "metadata": {},
   "outputs": [],
   "source": []
  }
 ],
 "metadata": {
  "kernelspec": {
   "display_name": "conda_python3",
   "language": "python",
   "name": "conda_python3"
  },
  "language_info": {
   "codemirror_mode": {
    "name": "ipython",
    "version": 3
   },
   "file_extension": ".py",
   "mimetype": "text/x-python",
   "name": "python",
   "nbconvert_exporter": "python",
   "pygments_lexer": "ipython3",
   "version": "3.10.8"
  }
 },
 "nbformat": 4,
 "nbformat_minor": 5
}
